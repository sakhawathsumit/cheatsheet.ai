{
 "cells": [
  {
   "cell_type": "markdown",
   "metadata": {},
   "source": [
    "### Vector Addition\n",
    "$\\vec{r} = [r_i, r_j], \\vec{s} = [s_i, s_j]$ <br>\n",
    "$\\vec{r} + \\vec{s} = [r_i + s_i, r_j + s_j]$\n",
    "#### Property\n",
    "- Associative - $\\vec{r} + \\vec{s} = \\vec{s} + \\vec{r}$"
   ]
  },
  {
   "cell_type": "code",
   "execution_count": 11,
   "metadata": {},
   "outputs": [
    {
     "name": "stdout",
     "output_type": "stream",
     "text": [
      "[2, 4]"
     ]
    }
   ],
   "source": [
    "r = [1, 2]\n",
    "s = [1, 2]\n",
    "print(r + s)"
   ]
  },
  {
   "cell_type": "markdown",
   "metadata": {},
   "source": [
    "### Vector Subtraction\n",
    "$\\vec{r} - \\vec{s} = [r_i - s_i, r_j - s_j]$"
   ]
  },
  {
   "cell_type": "code",
   "execution_count": 12,
   "metadata": {},
   "outputs": [
    {
     "name": "stdout",
     "output_type": "stream",
     "text": [
      "[0, 0]"
     ]
    }
   ],
   "source": [
    "print(r - s)"
   ]
  },
  {
   "cell_type": "markdown",
   "metadata": {},
   "source": [
    "### Scaler Multiplication\n",
    "$a\\vec{r} = [a*r_i, a*r_j]$"
   ]
  },
  {
   "cell_type": "code",
   "execution_count": 13,
   "metadata": {},
   "outputs": [
    {
     "name": "stdout",
     "output_type": "stream",
     "text": [
      "[2, 4]\n",
      "[0.5, 1.0]\n",
      "[-1, -2]"
     ]
    }
   ],
   "source": [
    "r = [1, 2]\n",
    "print(2 * r)\n",
    "print('\\n')\n",
    "print(1/2 * r)\n",
    "print('\\n')\n",
    "print(-1 * r)"
   ]
  },
  {
   "cell_type": "markdown",
   "metadata": {},
   "source": [
    "### Modulus/ Length/ Magnitute/ Norm (L2-Norm) of Vector\n",
    "$|\\vec{r}| = \\sqrt{\\vec{r}.\\vec{r}} = \\sqrt{r_i^2 + r_j^2}$"
   ]
  },
  {
   "cell_type": "code",
   "execution_count": 22,
   "metadata": {},
   "outputs": [
    {
     "data": {
      "text/plain": [
       "2.23606797749979"
      ]
     },
     "execution_count": 22,
     "metadata": {},
     "output_type": "execute_result"
    }
   ],
   "source": [
    "import LinearAlgebra\n",
    "LinearAlgebra.norm(r)"
   ]
  },
  {
   "cell_type": "markdown",
   "metadata": {},
   "source": [
    "### Dot Product\n",
    "$\\vec{r}.\\vec{s} = \\sum_{all \\ c}{r_c * s_c} = r_i s_i + r_j s_j$ <br>\n",
    "here, c is the components of vector.\n",
    "#### Properties\n",
    "- Cummutative - $\\vec{r}.\\vec{s} = \\vec{s}.\\vec{r}$\n",
    "- Distributive of addition - $\\vec{r}.(\\vec{s} + \\vec{t}) = \\vec{r}.\\vec{s} + \\vec{r}.\\vec{t}$\n",
    "- Associative over scalar mutiplication - $\\vec{r}.(a \\vec{s}) = a(\\vec{r}.\\vec{s})$"
   ]
  },
  {
   "cell_type": "code",
   "execution_count": 21,
   "metadata": {},
   "outputs": [
    {
     "name": "stdout",
     "output_type": "stream",
     "text": [
      "5"
     ]
    }
   ],
   "source": [
    "print(LinearAlgebra.dot(r,s))"
   ]
  },
  {
   "cell_type": "code",
   "execution_count": null,
   "metadata": {},
   "outputs": [],
   "source": []
  }
 ],
 "metadata": {
  "kernelspec": {
   "display_name": "Julia 1.0.1",
   "language": "julia",
   "name": "julia-1.0"
  },
  "language_info": {
   "file_extension": ".jl",
   "mimetype": "application/julia",
   "name": "julia",
   "version": "1.0.1"
  }
 },
 "nbformat": 4,
 "nbformat_minor": 2
}
