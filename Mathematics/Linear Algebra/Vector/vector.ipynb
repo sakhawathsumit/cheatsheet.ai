{
 "cells": [
  {
   "cell_type": "markdown",
   "metadata": {},
   "source": [
    "### Vector Addition\n",
    "$\\vec{r} = [r_i, r_j], \\vec{s} = [s_i, s_j]$ <br>\n",
    "$\\vec{r} + \\vec{s} = [r_i + s_i, r_j + s_j]$\n",
    "#### Property\n",
    "- Associative - $\\vec{r} + \\vec{s} = \\vec{s} + \\vec{r}$"
   ]
  },
  {
   "cell_type": "code",
   "execution_count": 1,
   "metadata": {},
   "outputs": [
    {
     "name": "stdout",
     "output_type": "stream",
     "text": [
      "[2, 4]"
     ]
    }
   ],
   "source": [
    "r = [1, 2]\n",
    "s = [1, 2]\n",
    "print(r + s)"
   ]
  },
  {
   "cell_type": "markdown",
   "metadata": {},
   "source": [
    "### Vector Subtraction\n",
    "$\\vec{r} - \\vec{s} = [r_i - s_i, r_j - s_j]$"
   ]
  },
  {
   "cell_type": "code",
   "execution_count": 2,
   "metadata": {},
   "outputs": [
    {
     "name": "stdout",
     "output_type": "stream",
     "text": [
      "[0, 0]"
     ]
    }
   ],
   "source": [
    "print(r - s)"
   ]
  },
  {
   "cell_type": "markdown",
   "metadata": {},
   "source": [
    "### Scaler Multiplication\n",
    "$a\\vec{r} = [a*r_i, a*r_j]$"
   ]
  },
  {
   "cell_type": "code",
   "execution_count": 3,
   "metadata": {},
   "outputs": [
    {
     "name": "stdout",
     "output_type": "stream",
     "text": [
      "[2, 4]\n",
      "[0.5, 1.0]\n",
      "[-1, -2]"
     ]
    }
   ],
   "source": [
    "r = [1, 2]\n",
    "print(2 * r)\n",
    "print('\\n')\n",
    "print(1/2 * r)\n",
    "print('\\n')\n",
    "print(-1 * r)"
   ]
  },
  {
   "cell_type": "markdown",
   "metadata": {},
   "source": [
    "### Modulus/ Length/ Magnitute/ Norm (L2-Norm) of Vector\n",
    "$|\\vec{r}| = \\sqrt{\\vec{r}.\\vec{r}} = \\sqrt{r_i^2 + r_j^2}$"
   ]
  },
  {
   "cell_type": "code",
   "execution_count": 4,
   "metadata": {},
   "outputs": [
    {
     "data": {
      "text/plain": [
       "2.23606797749979"
      ]
     },
     "execution_count": 4,
     "metadata": {},
     "output_type": "execute_result"
    }
   ],
   "source": [
    "import LinearAlgebra\n",
    "LinearAlgebra.norm(r)"
   ]
  },
  {
   "cell_type": "markdown",
   "metadata": {},
   "source": [
    "### Dot Product\n",
    "$\\vec{r}.\\vec{s} = \\sum_{all \\ c}{r_c * s_c} = r_i s_i + r_j s_j$ <br>\n",
    "here, c is the components of vector.\n",
    "#### Properties\n",
    "- Cummutative - $\\vec{r}.\\vec{s} = \\vec{s}.\\vec{r}$\n",
    "- Distributive of addition - $\\vec{r}.(\\vec{s} + \\vec{t}) = \\vec{r}.\\vec{s} + \\vec{r}.\\vec{t}$\n",
    "- Associative over scalar mutiplication - $\\vec{r}.(a \\vec{s}) = a(\\vec{r}.\\vec{s})$"
   ]
  },
  {
   "cell_type": "code",
   "execution_count": 5,
   "metadata": {},
   "outputs": [
    {
     "name": "stdout",
     "output_type": "stream",
     "text": [
      "5"
     ]
    }
   ],
   "source": [
    "print(LinearAlgebra.dot(r,s))"
   ]
  },
  {
   "cell_type": "markdown",
   "metadata": {},
   "source": [
    "### Angle Between Two Vectors\n",
    "<img src=\"vector_angle.png\" alt=\"vector angle\">\n",
    "Cosine rule - $c^2 = a^2 + b^2 - 2ab\\cos\\theta$ <br>\n",
    "$|r - s|^2 = |r|^2 + |s|^2 - 2|r||s|\\cos\\theta$ <br>\n",
    "$(\\vec{r} - \\vec{s}).(\\vec{r} - \\vec{s}) = \\vec{r}.\\vec{r} - \\vec{s}.\\vec{r} - \\vec{s}.\\vec{r} -\\vec{s}.-\\vec{s}$ <br>\n",
    "$\\quad\\quad\\quad\\quad\\quad \\  = |\\vec{r}|^2 -2\\vec{s}.\\vec{r} + |\\vec{s}|^2$ <br>\n",
    "$\\vec{r}.\\vec{s} = |\\vec{r}||\\vec{s}|\\cos\\theta$ <br>\n",
    "$\\theta = \\cos^{-1}\\dfrac{\\vec{r}.\\vec{s}}{|\\vec{r}||\\vec{s}|}$ <br>\n",
    "\n",
    "#### Note \n",
    "\n",
    "- $\\vec{r}.\\vec{s} > 0$ vectors are in same direction. <br>\n",
    "- $\\vec{r}.\\vec{s} < 0$ vectors are in oposite direction. <br>\n",
    "- $\\vec{r}.\\vec{s} == 0$ vectors are perpendicular. <br>"
   ]
  },
  {
   "cell_type": "code",
   "execution_count": 6,
   "metadata": {},
   "outputs": [
    {
     "name": "stdout",
     "output_type": "stream",
     "text": [
      "90.0"
     ]
    }
   ],
   "source": [
    "r = [4, 0]\n",
    "s = [0, 4]\n",
    "radian = acos(LinearAlgebra.dot(r, s) / (LinearAlgebra.norm(r) * LinearAlgebra.norm(s)))\n",
    "print(rad2deg(radian))"
   ]
  },
  {
   "cell_type": "markdown",
   "metadata": {},
   "source": [
    "### Projection\n",
    "![projection](projection.png)\n",
    "Projection is the shadow of one vector onto another vector if we project a light source vertically from the same side. If we draw a perpendicular vector $\\vec{w}$ from $\\vec{v}$ to $\\vec{u}$, the projection of $\\vec{v}$ onto $\\vec{u}$ will be equal to $\\vec{l}$ on $\\vec{u}$.\n",
    "\n",
    "$\\vec{a}$ is exactly on the $\\vec{u}$, we can calculate $\\vec{u}$ from $\\vec{a}$ by multiplying a scalar.<br>\n",
    "which is $\\vec{u} = {c\\vec{a} | c \\epsilon\\mathbb{R}}$ and $c$ is any real number.<br>\n",
    "\n",
    "As $\\vec{w}$ is perpendicular to $\\vec{u}$, so the dot product of $\\vec{w}$ and any $\\vec{a}$ on $\\vec{u}$ will be zero.<br>\n",
    "$\\vec{w}.\\vec{a} = 0$ <br>\n",
    "And $\\vec{w} = c\\vec{a} - \\vec{v}$<br>\n",
    "Now, <br>\n",
    "$(c\\vec{a} - \\vec{v}).\\vec{a} = 0$ <br>\n",
    "$=>c\\vec{a}.\\vec{a} - \\vec{a}.\\vec{v} = 0$ <br>\n",
    "$=>c\\vec{a}.\\vec{a} = \\vec{a}.\\vec{v}$ <br>\n",
    "$=>c = \\dfrac{\\vec{a}.\\vec{v}}{\\vec{a}.\\vec{a}}$ <br>"
   ]
  },
  {
   "cell_type": "code",
   "execution_count": 10,
   "metadata": {},
   "outputs": [
    {
     "data": {
      "text/plain": [
       "1.4"
      ]
     },
     "execution_count": 10,
     "metadata": {},
     "output_type": "execute_result"
    }
   ],
   "source": [
    "a = [2, 1]\n",
    "v = [2, 3]\n",
    "c = LinearAlgebra.dot(a, v) / LinearAlgebra.dot(a, a)\n",
    "c"
   ]
  },
  {
   "cell_type": "markdown",
   "metadata": {},
   "source": [
    "Now $Proj_u{\\vec{v}} = \\vec{l} = c\\vec{a}= \\dfrac{\\vec{a}.\\vec{v}}{\\vec{a}.\\vec{a}} \\vec{a}$"
   ]
  },
  {
   "cell_type": "code",
   "execution_count": 14,
   "metadata": {},
   "outputs": [
    {
     "data": {
      "text/plain": [
       "2-element Array{Float64,1}:\n",
       " 2.8\n",
       " 1.4"
      ]
     },
     "execution_count": 14,
     "metadata": {},
     "output_type": "execute_result"
    }
   ],
   "source": [
    "c * a"
   ]
  },
  {
   "cell_type": "markdown",
   "metadata": {},
   "source": [
    " - Note <br>\n",
    "Another way to interpret this is \n",
    "$\\dfrac{\\vec{a}.\\vec{v}}{\\vec{a}.\\vec{a}} \\vec{a} = \\dfrac{\\vec{a}.\\vec{v}}{|\\vec{a}|} \\dfrac{\\vec{a}}{|\\vec{a}|}$ where $\\vec{a}.\\vec{a}=|\\vec{a}||\\vec{a}|$<br>\n",
    "here, $\\dfrac{\\vec{a}.\\vec{v}}{|\\vec{a}|}$ means how many units $\\vec{v}$ is on $\\vec{a}$ or vise versa also known as the scalar projection. And $\\dfrac{\\vec{a}}{|\\vec{a}|}$ is the unit vector of $\\vec{a}$.<br>"
   ]
  }
 ],
 "metadata": {
  "kernelspec": {
   "display_name": "Julia 1.0.1",
   "language": "julia",
   "name": "julia-1.0"
  },
  "language_info": {
   "file_extension": ".jl",
   "mimetype": "application/julia",
   "name": "julia",
   "version": "1.0.1"
  }
 },
 "nbformat": 4,
 "nbformat_minor": 2
}
